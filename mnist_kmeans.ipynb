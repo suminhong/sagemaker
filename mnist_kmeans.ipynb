{
 "cells": [
  {
   "cell_type": "code",
   "execution_count": 5,
   "id": "outdoor-adaptation",
   "metadata": {},
   "outputs": [],
   "source": [
    "import boto3\n",
    "from sagemaker import get_execution_role\n",
    "\n",
    "region = boto3.Session().region_name\n",
    "\n",
    "# S3 bucket where the original mnist data is downloaded and stored.\n",
    "downloaded_data_bucket = f\"jumpstart-cache-prod-{region}\"\n",
    "downloaded_data_prefix = \"1p-notebooks-datasets/mnist\"\n",
    "\n",
    "# 초기에 설정한 IAM role 가져오기\n",
    "role = get_execution_role()\n",
    "# 초기에 만들었던 S3 Bucket 가져오기\n",
    "bucket='sagemaker-sumin-test'"
   ]
  },
  {
   "cell_type": "code",
   "execution_count": 9,
   "id": "heard-invasion",
   "metadata": {},
   "outputs": [
    {
     "name": "stdout",
     "output_type": "stream",
     "text": [
      "CPU times: user 897 ms, sys: 287 ms, total: 1.18 s\n",
      "Wall time: 1.25 s\n"
     ]
    }
   ],
   "source": [
    "%%time\n",
    "import pickle, gzip, numpy, urllib.request, json\n",
    "#pickle : python식 데이터 압축 포맷\n",
    "#numpy : 수치 계산을 위한 python package\n",
    "\n",
    "#Load DataSet\n",
    "s3 = boto3.client(\"s3\")\n",
    "s3.download_file(downloaded_data_bucket, f\"{downloaded_data_prefix}/mnist.pkl.gz\", \"mnist.pkl.gz\")\n",
    "with gzip.open(\"mnist.pkl.gz\", \"rb\") as f:\n",
    "    train_set, valid_set, test_set = pickle.load(f, encoding=\"latin1\")"
   ]
  },
  {
   "cell_type": "code",
   "execution_count": 10,
   "id": "opposed-architect",
   "metadata": {
    "scrolled": true
   },
   "outputs": [
    {
     "data": {
      "image/png": "[encoded data removed]",
      "text/plain": [
       "<Figure size 144x720 with 1 Axes>"
      ]
     },
     "metadata": {
      "needs_background": "light"
     },
     "output_type": "display_data"
    }
   ],
   "source": [
    "#matplotlib로 그리는 그림이 jupyter 노트북에 바로 보여줄 수 있도록 설정\n",
    "%matplotlib inline\n",
    "#도표나 그림을 그릴 수 있게 해주는 라이브러리 import\n",
    "import matplotlib.pyplot as plt\n",
    "\n",
    "plt.rcParams[\"figure.figsize\"] = (2, 10)\n",
    "\n",
    "\n",
    "def show_digit(img, caption=\"\", subplot=None):\n",
    "    if subplot is None:\n",
    "        _, (subplot) = plt.subplots(1, 1)\n",
    "    imgr = img.reshape((28, 28))\n",
    "    subplot.axis(\"off\")\n",
    "    subplot.imshow(imgr, cmap=\"gray\")\n",
    "    plt.title(caption)\n",
    "\n",
    "#train_set의 그림[0]과 데이터 이름[1]을 예시로 보여준다\n",
    "show_digit(train_set[0][30], f\"This is a {train_set[1][30]}\")"
   ]
  },
  {
   "cell_type": "code",
   "execution_count": 11,
   "id": "inclusive-forest",
   "metadata": {},
   "outputs": [
    {
     "name": "stderr",
     "output_type": "stream",
     "text": [
      "train_instance_count has been renamed in sagemaker>=2.\n",
      "See: https://sagemaker.readthedocs.io/en/stable/v2.html for details.\n",
      "train_instance_type has been renamed in sagemaker>=2.\n",
      "See: https://sagemaker.readthedocs.io/en/stable/v2.html for details.\n"
     ]
    },
    {
     "name": "stdout",
     "output_type": "stream",
     "text": [
      "training data will be uploaded to : s3://sagemaker-sumin-test/kmeans_highlevel_example/data\n",
      "training artifacts will be uploaded to : s3://sagemaker-sumin-test/kmeans_example/output\n"
     ]
    }
   ],
   "source": [
    "from sagemaker import KMeans\n",
    "\n",
    "data_location = 's3://{}/kmeans_highlevel_example/data' .format(bucket)\n",
    "output_location = 's3://{}/kmeans_example/output' .format(bucket)\n",
    "\n",
    "print('training data will be uploaded to : {}' .format(data_location))\n",
    "print('training artifacts will be uploaded to : {}' .format(output_location))\n",
    "\n",
    "kmeans = KMeans(role=role,\n",
    "               train_instance_count=2,\n",
    "               train_instance_type='ml.c4.8xlarge',\n",
    "               output_path=output_location,\n",
    "               k=10,\n",
    "               data_location=data_location)"
   ]
  },
  {
   "cell_type": "code",
   "execution_count": 12,
   "id": "included-enclosure",
   "metadata": {},
   "outputs": [
    {
     "name": "stderr",
     "output_type": "stream",
     "text": [
      "Defaulting to the only supported framework/algorithm version: 1. Ignoring framework/algorithm version: 1.\n",
      "Defaulting to the only supported framework/algorithm version: 1. Ignoring framework/algorithm version: 1.\n"
     ]
    },
    {
     "name": "stdout",
     "output_type": "stream",
     "text": [
      "2021-02-26 11:52:23 Starting - Starting the training job...\n",
      "2021-02-26 11:52:47 Starting - Launching requested ML instancesProfilerReport-1614340343: InProgress\n",
      "......\n",
      "2021-02-26 11:53:48 Starting - Preparing the instances for training.........\n",
      "2021-02-26 11:55:09 Downloading - Downloading input data\n",
      "2021-02-26 11:55:09 Training - Downloading the training image.\u001b[35mDocker entrypoint called with argument(s): train\u001b[0m\n",
      "\u001b[35mRunning default environment configuration script\u001b[0m\n",
      "\u001b[35m[02/26/2021 11:55:26 INFO 140352212116864] Reading default configuration from /opt/amazon/lib/python3.6/site-packages/algorithm/resources/default-input.json: {'init_method': 'random', 'mini_batch_size': '5000', 'epochs': '1', 'extra_center_factor': 'auto', 'local_lloyd_max_iter': '300', 'local_lloyd_tol': '0.0001', 'local_lloyd_init_method': 'kmeans++', 'local_lloyd_num_trials': 'auto', 'half_life_time_size': '0', 'eval_metrics': '[\"msd\"]', 'force_dense': 'true', '_disable_wait_to_read': 'false', '_enable_profiler': 'false', '_kvstore': 'auto', '_log_level': 'info', '_num_gpus': 'auto', '_num_kv_servers': '1', '_num_slices': '1', '_tuning_objective_metric': ''}\u001b[0m\n",
      "\u001b[35m[02/26/2021 11:55:26 INFO 140352212116864] Merging with provided configuration from /opt/ml/input/config/hyperparameters.json: {'feature_dim': '784', 'k': '10', 'force_dense': 'True'}\u001b[0m\n",
      "\u001b[35m[02/26/2021 11:55:26 INFO 140352212116864] Final configuration: {'init_method': 'random', 'mini_batch_size': '5000', 'epochs': '1', 'extra_center_factor': 'auto', 'local_lloyd_max_iter': '300', 'local_lloyd_tol': '0.0001', 'local_lloyd_init_method': 'kmeans++', 'local_lloyd_num_trials': 'auto', 'half_life_time_size': '0', 'eval_metrics': '[\"msd\"]', 'force_dense': 'True', '_disable_wait_to_read': 'false', '_enable_profiler': 'false', '_kvstore': 'auto', '_log_level': 'info', '_num_gpus': 'auto', '_num_kv_servers': '1', '_num_slices': '1', '_tuning_objective_metric': '', 'feature_dim': '784', 'k': '10'}\u001b[0m\n",
      "\u001b[35m[02/26/2021 11:55:26 WARNING 140352212116864] Loggers have already been setup.\u001b[0m\n",
      "\u001b[34mDocker entrypoint called with argument(s): train\u001b[0m\n",
      "\u001b[34mRunning default environment configuration script\u001b[0m\n",
      "\u001b[34m[02/26/2021 11:55:27 INFO 140109982315904] Reading default configuration from /opt/amazon/lib/python3.6/site-packages/algorithm/resources/default-input.json: {'init_method': 'random', 'mini_batch_size': '5000', 'epochs': '1', 'extra_center_factor': 'auto', 'local_lloyd_max_iter': '300', 'local_lloyd_tol': '0.0001', 'local_lloyd_init_method': 'kmeans++', 'local_lloyd_num_trials': 'auto', 'half_life_time_size': '0', 'eval_metrics': '[\"msd\"]', 'force_dense': 'true', '_disable_wait_to_read': 'false', '_enable_profiler': 'false', '_kvstore': 'auto', '_log_level': 'info', '_num_gpus': 'auto', '_num_kv_servers': '1', '_num_slices': '1', '_tuning_objective_metric': ''}\u001b[0m\n",
      "\u001b[34m[02/26/2021 11:55:27 INFO 140109982315904] Merging with provided configuration from /opt/ml/input/config/hyperparameters.json: {'feature_dim': '784', 'k': '10', 'force_dense': 'True'}\u001b[0m\n",
      "\u001b[34m[02/26/2021 11:55:27 INFO 140109982315904] Final configuration: {'init_method': 'random', 'mini_batch_size': '5000', 'epochs': '1', 'extra_center_factor': 'auto', 'local_lloyd_max_iter': '300', 'local_lloyd_tol': '0.0001', 'local_lloyd_init_method': 'kmeans++', 'local_lloyd_num_trials': 'auto', 'half_life_time_size': '0', 'eval_metrics': '[\"msd\"]', 'force_dense': 'True', '_disable_wait_to_read': 'false', '_enable_profiler': 'false', '_kvstore': 'auto', '_log_level': 'info', '_num_gpus': 'auto', '_num_kv_servers': '1', '_num_slices': '1', '_tuning_objective_metric': '', 'feature_dim': '784', 'k': '10'}\u001b[0m\n",
      "\u001b[34m[02/26/2021 11:55:27 WARNING 140109982315904] Loggers have already been setup.\u001b[0m\n",
      "\u001b[34m[02/26/2021 11:55:28 INFO 140109982315904] Launching parameter server for role scheduler\u001b[0m\n",
      "\u001b[34m[02/26/2021 11:55:28 INFO 140109982315904] {'ENVROOT': '/opt/amazon', 'PROTOCOL_BUFFERS_PYTHON_IMPLEMENTATION': 'cpp', 'HOSTNAME': 'ip-10-0-91-191.ap-northeast-2.compute.internal', 'TRAINING_JOB_NAME': 'kmeans-2021-02-26-11-52-23-527', 'NVIDIA_REQUIRE_CUDA': 'cuda>=9.0', 'TRAINING_JOB_ARN': 'arn:aws:sagemaker:ap-northeast-2:894573664020:training-job/kmeans-2021-02-26-11-52-23-527', 'AWS_CONTAINER_CREDENTIALS_RELATIVE_URI': '/v2/credentials/7df2e708-3fa3-4801-ac47-ce8ade52a252', 'CANONICAL_ENVROOT': '/opt/amazon', 'PYTHONUNBUFFERED': 'TRUE', 'NVIDIA_VISIBLE_DEVICES': 'void', 'LD_LIBRARY_PATH': '/opt/amazon/lib/python3.6/site-packages/cv2/../../../../lib:/usr/local/nvidia/lib64:/opt/amazon/lib', 'MXNET_KVSTORE_BIGARRAY_BOUND': '400000000', 'NVIDIA_DRIVER_CAPABILITIES': 'compute,utility', 'AWS_EXECUTION_ENV': 'AWS_ECS_EC2', 'PATH': '/opt/amazon/bin:/usr/local/nvidia/bin:/usr/local/sbin:/usr/local/bin:/usr/sbin:/usr/bin:/sbin:/bin:/opt/amazon/bin:/opt/amazon/bin', 'PWD': '/', 'LANG': 'en_US.utf8', 'AWS_REGION': 'ap-northeast-2', 'SAGEMAKER_METRICS_DIRECTORY': '/opt/ml/output/metrics/sagemaker', 'HOME': '/root', 'SHLVL': '1', 'PROTOCOL_BUFFERS_PYTHON_IMPLEMENTATION_VERSION': '2', 'OMP_NUM_THREADS': '18', 'ECS_CONTAINER_METADATA_URI': 'http://169.254.170.2/v3/be60002b-53a6-44fe-bcdc-cf27e8dc044e', 'DMLC_INTERFACE': 'eth0', 'ECS_CONTAINER_METADATA_URI_V4': 'http://169.254.170.2/v4/be60002b-53a6-44fe-bcdc-cf27e8dc044e', 'SAGEMAKER_HTTP_PORT': '8080', 'SAGEMAKER_DATA_PATH': '/opt/ml'}\u001b[0m\n",
      "\u001b[34m[02/26/2021 11:55:28 INFO 140109982315904] envs={'ENVROOT': '/opt/amazon', 'PROTOCOL_BUFFERS_PYTHON_IMPLEMENTATION': 'cpp', 'HOSTNAME': 'ip-10-0-91-191.ap-northeast-2.compute.internal', 'TRAINING_JOB_NAME': 'kmeans-2021-02-26-11-52-23-527', 'NVIDIA_REQUIRE_CUDA': 'cuda>=9.0', 'TRAINING_JOB_ARN': 'arn:aws:sagemaker:ap-northeast-2:894573664020:training-job/kmeans-2021-02-26-11-52-23-527', 'AWS_CONTAINER_CREDENTIALS_RELATIVE_URI': '/v2/credentials/7df2e708-3fa3-4801-ac47-ce8ade52a252', 'CANONICAL_ENVROOT': '/opt/amazon', 'PYTHONUNBUFFERED': 'TRUE', 'NVIDIA_VISIBLE_DEVICES': 'void', 'LD_LIBRARY_PATH': '/opt/amazon/lib/python3.6/site-packages/cv2/../../../../lib:/usr/local/nvidia/lib64:/opt/amazon/lib', 'MXNET_KVSTORE_BIGARRAY_BOUND': '400000000', 'NVIDIA_DRIVER_CAPABILITIES': 'compute,utility', 'AWS_EXECUTION_ENV': 'AWS_ECS_EC2', 'PATH': '/opt/amazon/bin:/usr/local/nvidia/bin:/usr/local/sbin:/usr/local/bin:/usr/sbin:/usr/bin:/sbin:/bin:/opt/amazon/bin:/opt/amazon/bin', 'PWD': '/', 'LANG': 'en_US.utf8', 'AWS_REGION': 'ap-northeast-2', 'SAGEMAKER_METRICS_DIRECTORY': '/opt/ml/output/metrics/sagemaker', 'HOME': '/root', 'SHLVL': '1', 'PROTOCOL_BUFFERS_PYTHON_IMPLEMENTATION_VERSION': '2', 'OMP_NUM_THREADS': '18', 'ECS_CONTAINER_METADATA_URI': 'http://169.254.170.2/v3/be60002b-53a6-44fe-bcdc-cf27e8dc044e', 'DMLC_INTERFACE': 'eth0', 'ECS_CONTAINER_METADATA_URI_V4': 'http://169.254.170.2/v4/be60002b-53a6-44fe-bcdc-cf27e8dc044e', 'SAGEMAKER_HTTP_PORT': '8080', 'SAGEMAKER_DATA_PATH': '/opt/ml', 'DMLC_ROLE': 'scheduler', 'DMLC_PS_ROOT_URI': '10.0.91.191', 'DMLC_PS_ROOT_PORT': '9000', 'DMLC_NUM_SERVER': '1', 'DMLC_NUM_WORKER': '2'}\u001b[0m\n",
      "\u001b[34m[02/26/2021 11:55:28 INFO 140109982315904] Launching parameter server for role server\u001b[0m\n",
      "\u001b[34m[02/26/2021 11:55:28 INFO 140109982315904] {'ENVROOT': '/opt/amazon', 'PROTOCOL_BUFFERS_PYTHON_IMPLEMENTATION': 'cpp', 'HOSTNAME': 'ip-10-0-91-191.ap-northeast-2.compute.internal', 'TRAINING_JOB_NAME': 'kmeans-2021-02-26-11-52-23-527', 'NVIDIA_REQUIRE_CUDA': 'cuda>=9.0', 'TRAINING_JOB_ARN': 'arn:aws:sagemaker:ap-northeast-2:894573664020:training-job/kmeans-2021-02-26-11-52-23-527', 'AWS_CONTAINER_CREDENTIALS_RELATIVE_URI': '/v2/credentials/7df2e708-3fa3-4801-ac47-ce8ade52a252', 'CANONICAL_ENVROOT': '/opt/amazon', 'PYTHONUNBUFFERED': 'TRUE', 'NVIDIA_VISIBLE_DEVICES': 'void', 'LD_LIBRARY_PATH': '/opt/amazon/lib/python3.6/site-packages/cv2/../../../../lib:/usr/local/nvidia/lib64:/opt/amazon/lib', 'MXNET_KVSTORE_BIGARRAY_BOUND': '400000000', 'NVIDIA_DRIVER_CAPABILITIES': 'compute,utility', 'AWS_EXECUTION_ENV': 'AWS_ECS_EC2', 'PATH': '/opt/amazon/bin:/usr/local/nvidia/bin:/usr/local/sbin:/usr/local/bin:/usr/sbin:/usr/bin:/sbin:/bin:/opt/amazon/bin:/opt/amazon/bin', 'PWD': '/', 'LANG': 'en_US.utf8', 'AWS_REGION': 'ap-northeast-2', 'SAGEMAKER_METRICS_DIRECTORY': '/opt/ml/output/metrics/sagemaker', 'HOME': '/root', 'SHLVL': '1', 'PROTOCOL_BUFFERS_PYTHON_IMPLEMENTATION_VERSION': '2', 'OMP_NUM_THREADS': '18', 'ECS_CONTAINER_METADATA_URI': 'http://169.254.170.2/v3/be60002b-53a6-44fe-bcdc-cf27e8dc044e', 'DMLC_INTERFACE': 'eth0', 'ECS_CONTAINER_METADATA_URI_V4': 'http://169.254.170.2/v4/be60002b-53a6-44fe-bcdc-cf27e8dc044e', 'SAGEMAKER_HTTP_PORT': '8080', 'SAGEMAKER_DATA_PATH': '/opt/ml'}\u001b[0m\n",
      "\u001b[34m[02/26/2021 11:55:28 INFO 140109982315904] envs={'ENVROOT': '/opt/amazon', 'PROTOCOL_BUFFERS_PYTHON_IMPLEMENTATION': 'cpp', 'HOSTNAME': 'ip-10-0-91-191.ap-northeast-2.compute.internal', 'TRAINING_JOB_NAME': 'kmeans-2021-02-26-11-52-23-527', 'NVIDIA_REQUIRE_CUDA': 'cuda>=9.0', 'TRAINING_JOB_ARN': 'arn:aws:sagemaker:ap-northeast-2:894573664020:training-job/kmeans-2021-02-26-11-52-23-527', 'AWS_CONTAINER_CREDENTIALS_RELATIVE_URI': '/v2/credentials/7df2e708-3fa3-4801-ac47-ce8ade52a252', 'CANONICAL_ENVROOT': '/opt/amazon', 'PYTHONUNBUFFERED': 'TRUE', 'NVIDIA_VISIBLE_DEVICES': 'void', 'LD_LIBRARY_PATH': '/opt/amazon/lib/python3.6/site-packages/cv2/../../../../lib:/usr/local/nvidia/lib64:/opt/amazon/lib', 'MXNET_KVSTORE_BIGARRAY_BOUND': '400000000', 'NVIDIA_DRIVER_CAPABILITIES': 'compute,utility', 'AWS_EXECUTION_ENV': 'AWS_ECS_EC2', 'PATH': '/opt/amazon/bin:/usr/local/nvidia/bin:/usr/local/sbin:/usr/local/bin:/usr/sbin:/usr/bin:/sbin:/bin:/opt/amazon/bin:/opt/amazon/bin', 'PWD': '/', 'LANG': 'en_US.utf8', 'AWS_REGION': 'ap-northeast-2', 'SAGEMAKER_METRICS_DIRECTORY': '/opt/ml/output/metrics/sagemaker', 'HOME': '/root', 'SHLVL': '1', 'PROTOCOL_BUFFERS_PYTHON_IMPLEMENTATION_VERSION': '2', 'OMP_NUM_THREADS': '18', 'ECS_CONTAINER_METADATA_URI': 'http://169.254.170.2/v3/be60002b-53a6-44fe-bcdc-cf27e8dc044e', 'DMLC_INTERFACE': 'eth0', 'ECS_CONTAINER_METADATA_URI_V4': 'http://169.254.170.2/v4/be60002b-53a6-44fe-bcdc-cf27e8dc044e', 'SAGEMAKER_HTTP_PORT': '8080', 'SAGEMAKER_DATA_PATH': '/opt/ml', 'DMLC_ROLE': 'server', 'DMLC_PS_ROOT_URI': '10.0.91.191', 'DMLC_PS_ROOT_PORT': '9000', 'DMLC_NUM_SERVER': '1', 'DMLC_NUM_WORKER': '2'}\u001b[0m\n",
      "\u001b[34m[02/26/2021 11:55:28 INFO 140109982315904] Environment: {'ENVROOT': '/opt/amazon', 'PROTOCOL_BUFFERS_PYTHON_IMPLEMENTATION': 'cpp', 'HOSTNAME': 'ip-10-0-91-191.ap-northeast-2.compute.internal', 'TRAINING_JOB_NAME': 'kmeans-2021-02-26-11-52-23-527', 'NVIDIA_REQUIRE_CUDA': 'cuda>=9.0', 'TRAINING_JOB_ARN': 'arn:aws:sagemaker:ap-northeast-2:894573664020:training-job/kmeans-2021-02-26-11-52-23-527', 'AWS_CONTAINER_CREDENTIALS_RELATIVE_URI': '/v2/credentials/7df2e708-3fa3-4801-ac47-ce8ade52a252', 'CANONICAL_ENVROOT': '/opt/amazon', 'PYTHONUNBUFFERED': 'TRUE', 'NVIDIA_VISIBLE_DEVICES': 'void', 'LD_LIBRARY_PATH': '/opt/amazon/lib/python3.6/site-packages/cv2/../../../../lib:/usr/local/nvidia/lib64:/opt/amazon/lib', 'MXNET_KVSTORE_BIGARRAY_BOUND': '400000000', 'NVIDIA_DRIVER_CAPABILITIES': 'compute,utility', 'AWS_EXECUTION_ENV': 'AWS_ECS_EC2', 'PATH': '/opt/amazon/bin:/usr/local/nvidia/bin:/usr/local/sbin:/usr/local/bin:/usr/sbin:/usr/bin:/sbin:/bin:/opt/amazon/bin:/opt/amazon/bin', 'PWD': '/', 'LANG': 'en_US.utf8', 'AWS_REGION': 'ap-northeast-2', 'SAGEMAKER_METRICS_DIRECTORY': '/opt/ml/output/metrics/sagemaker', 'HOME': '/root', 'SHLVL': '1', 'PROTOCOL_BUFFERS_PYTHON_IMPLEMENTATION_VERSION': '2', 'OMP_NUM_THREADS': '18', 'ECS_CONTAINER_METADATA_URI': 'http://169.254.170.2/v3/be60002b-53a6-44fe-bcdc-cf27e8dc044e', 'DMLC_INTERFACE': 'eth0', 'ECS_CONTAINER_METADATA_URI_V4': 'http://169.254.170.2/v4/be60002b-53a6-44fe-bcdc-cf27e8dc044e', 'SAGEMAKER_HTTP_PORT': '8080', 'SAGEMAKER_DATA_PATH': '/opt/ml', 'DMLC_ROLE': 'worker', 'DMLC_PS_ROOT_URI': '10.0.91.191', 'DMLC_PS_ROOT_PORT': '9000', 'DMLC_NUM_SERVER': '1', 'DMLC_NUM_WORKER': '2'}\u001b[0m\n",
      "\u001b[34mProcess 90 is a shell:scheduler.\u001b[0m\n",
      "\u001b[34mProcess 99 is a shell:server.\u001b[0m\n",
      "\u001b[34mProcess 1 is a worker.\u001b[0m\n",
      "\u001b[34m[02/26/2021 11:55:28 INFO 140109982315904] Using default worker.\u001b[0m\n",
      "\u001b[34m[02/26/2021 11:55:28 INFO 140109982315904] Loaded iterator creator application/x-recordio-protobuf for content type ('application/x-recordio-protobuf', '1.0')\u001b[0m\n",
      "\u001b[34m[02/26/2021 11:55:28 INFO 140109982315904] Create Store: dist_async\u001b[0m\n",
      "\u001b[34m[02/26/2021 11:55:29 INFO 140109982315904] nvidia-smi took: 0.02539682388305664 secs to identify 0 gpus\u001b[0m\n",
      "\u001b[34m[02/26/2021 11:55:29 INFO 140109982315904] Number of GPUs being used: 0\u001b[0m\n",
      "\u001b[34m[02/26/2021 11:55:29 INFO 140109982315904] Checkpoint loading and saving are disabled.\u001b[0m\n",
      "\u001b[34m[02/26/2021 11:55:29 INFO 140109982315904] Setting up with params: {'init_method': 'random', 'mini_batch_size': '5000', 'epochs': '1', 'extra_center_factor': 'auto', 'local_lloyd_max_iter': '300', 'local_lloyd_tol': '0.0001', 'local_lloyd_init_method': 'kmeans++', 'local_lloyd_num_trials': 'auto', 'half_life_time_size': '0', 'eval_metrics': '[\"msd\"]', 'force_dense': 'True', '_disable_wait_to_read': 'false', '_enable_profiler': 'false', '_kvstore': 'auto', '_log_level': 'info', '_num_gpus': 'auto', '_num_kv_servers': '1', '_num_slices': '1', '_tuning_objective_metric': '', 'feature_dim': '784', 'k': '10'}\u001b[0m\n",
      "\u001b[34m[02/26/2021 11:55:29 INFO 140109982315904] 'extra_center_factor' was set to 'auto', evaluated to 10.\u001b[0m\n",
      "\u001b[34m[02/26/2021 11:55:29 INFO 140109982315904] Number of GPUs being used: 0\u001b[0m\n",
      "\u001b[34m[02/26/2021 11:55:29 INFO 140109982315904] number of center slices 1\u001b[0m\n",
      "\u001b[34m#metrics {\"StartTime\": 1614340529.9574134, \"EndTime\": 1614340529.957445, \"Dimensions\": {\"Algorithm\": \"AWS/KMeansWebscale\", \"Host\": \"algo-1\", \"Operation\": \"training\", \"Meta\": \"init_train_data_iter\"}, \"Metrics\": {\"Total Records Seen\": {\"sum\": 5000.0, \"count\": 1, \"min\": 5000, \"max\": 5000}, \"Total Batches Seen\": {\"sum\": 1.0, \"count\": 1, \"min\": 1, \"max\": 1}, \"Max Records Seen Between Resets\": {\"sum\": 5000.0, \"count\": 1, \"min\": 5000, \"max\": 5000}, \"Max Batches Seen Between Resets\": {\"sum\": 1.0, \"count\": 1, \"min\": 1, \"max\": 1}, \"Reset Count\": {\"sum\": 0.0, \"count\": 1, \"min\": 0, \"max\": 0}, \"Number of Records Since Last Reset\": {\"sum\": 5000.0, \"count\": 1, \"min\": 5000, \"max\": 5000}, \"Number of Batches Since Last Reset\": {\"sum\": 1.0, \"count\": 1, \"min\": 1, \"max\": 1}}}\n",
      "\u001b[0m\n",
      "\u001b[34m[2021-02-26 11:55:29.974] [tensorio] [info] epoch_stats={\"data_pipeline\": \"/opt/ml/input/data/train\", \"epoch\": 0, \"duration\": 75, \"num_examples\": 1, \"num_bytes\": 15820000}\u001b[0m\n",
      "\u001b[34m[2021-02-26 11:55:30.162] [tensorio] [info] epoch_stats={\"data_pipeline\": \"/opt/ml/input/data/train\", \"epoch\": 1, \"duration\": 187, \"num_examples\": 5, \"num_bytes\": 79100000}\u001b[0m\n",
      "\u001b[34m[02/26/2021 11:55:30 INFO 140109982315904] processed a total of 25000 examples\u001b[0m\n",
      "\u001b[34m[02/26/2021 11:55:30 INFO 140109982315904] #progress_metric: host=algo-1, completed 100.0 % of epochs\u001b[0m\n",
      "\u001b[34m#metrics {\"StartTime\": 1614340529.9745946, \"EndTime\": 1614340530.163714, \"Dimensions\": {\"Algorithm\": \"AWS/KMeansWebscale\", \"Host\": \"algo-1\", \"Operation\": \"training\", \"epoch\": 0, \"Meta\": \"training_data_iter\"}, \"Metrics\": {\"Total Records Seen\": {\"sum\": 30000.0, \"count\": 1, \"min\": 30000, \"max\": 30000}, \"Total Batches Seen\": {\"sum\": 6.0, \"count\": 1, \"min\": 6, \"max\": 6}, \"Max Records Seen Between Resets\": {\"sum\": 25000.0, \"count\": 1, \"min\": 25000, \"max\": 25000}, \"Max Batches Seen Between Resets\": {\"sum\": 5.0, \"count\": 1, \"min\": 5, \"max\": 5}, \"Reset Count\": {\"sum\": 1.0, \"count\": 1, \"min\": 1, \"max\": 1}, \"Number of Records Since Last Reset\": {\"sum\": 25000.0, \"count\": 1, \"min\": 25000, \"max\": 25000}, \"Number of Batches Since Last Reset\": {\"sum\": 5.0, \"count\": 1, \"min\": 5, \"max\": 5}}}\n",
      "\u001b[0m\n",
      "\u001b[34m[02/26/2021 11:55:30 INFO 140109982315904] #throughput_metric: host=algo-1, train throughput=132098.90385383373 records/second\u001b[0m\n",
      "\u001b[34m[02/26/2021 11:55:30 INFO 140109982315904] shrinking 100 centers into 10\u001b[0m\n",
      "\u001b[34m[02/26/2021 11:55:30 INFO 140109982315904] local kmeans attempt #0. Current mean square distance 11.340675\u001b[0m\n",
      "\u001b[34m[02/26/2021 11:55:30 INFO 140109982315904] local kmeans attempt #1. Current mean square distance 11.143458\u001b[0m\n",
      "\u001b[34m[02/26/2021 11:55:30 INFO 140109982315904] local kmeans attempt #2. Current mean square distance 10.902785\u001b[0m\n",
      "\u001b[34m[02/26/2021 11:55:30 INFO 140109982315904] local kmeans attempt #3. Current mean square distance 10.906015\u001b[0m\n",
      "\u001b[34m[02/26/2021 11:55:30 INFO 140109982315904] local kmeans attempt #4. Current mean square distance 11.233698\u001b[0m\n",
      "\u001b[34m[02/26/2021 11:55:30 INFO 140109982315904] local kmeans attempt #5. Current mean square distance 11.667264\u001b[0m\n",
      "\u001b[34m[02/26/2021 11:55:30 INFO 140109982315904] local kmeans attempt #6. Current mean square distance 10.453412\u001b[0m\n",
      "\u001b[34m[02/26/2021 11:55:30 INFO 140109982315904] local kmeans attempt #7. Current mean square distance 10.302423\u001b[0m\n",
      "\u001b[34m[02/26/2021 11:55:30 INFO 140109982315904] local kmeans attempt #8. Current mean square distance 11.127572\u001b[0m\n",
      "\u001b[34m[02/26/2021 11:55:30 INFO 140109982315904] local kmeans attempt #9. Current mean square distance 11.365714\u001b[0m\n",
      "\u001b[34m[02/26/2021 11:55:30 INFO 140109982315904] finished shrinking process. Mean Square Distance = 10\u001b[0m\n",
      "\u001b[34m[02/26/2021 11:55:30 INFO 140109982315904] #quality_metric: host=algo-1, train msd <loss>=10.302422523498535\u001b[0m\n",
      "\u001b[34m[02/26/2021 11:55:30 INFO 140109982315904] compute all data-center distances: inner product took: 33.8120%, (0.066136 secs)\u001b[0m\n",
      "\u001b[34m[02/26/2021 11:55:30 INFO 140109982315904] batch data loading with context took: 22.8421%, (0.044679 secs)\u001b[0m\n",
      "\u001b[34m[02/26/2021 11:55:30 INFO 140109982315904] compute all data-center distances: point norm took: 12.2969%, (0.024052 secs)\u001b[0m\n",
      "\u001b[34m[02/26/2021 11:55:30 INFO 140109982315904] gradient: cluster center took: 8.8196%, (0.017251 secs)\u001b[0m\n",
      "\u001b[34m[02/26/2021 11:55:30 INFO 140109982315904] collect from kv store took: 7.6413%, (0.014946 secs)\u001b[0m\n",
      "\u001b[34m[02/26/2021 11:55:30 INFO 140109982315904] splitting centers key-value pair took: 5.3160%, (0.010398 secs)\u001b[0m\n",
      "\u001b[34m[02/26/2021 11:55:30 INFO 140109982315904] gradient: one_hot took: 3.2028%, (0.006265 secs)\u001b[0m\n",
      "\u001b[34m[02/26/2021 11:55:30 INFO 140109982315904] predict compute msd took: 2.9448%, (0.005760 secs)\u001b[0m\n",
      "\u001b[34m[02/26/2021 11:55:30 INFO 140109982315904] gradient: cluster size  took: 1.6492%, (0.003226 secs)\u001b[0m\n",
      "\u001b[34m[02/26/2021 11:55:30 INFO 140109982315904] update state and report convergance took: 0.7131%, (0.001395 secs)\u001b[0m\n",
      "\u001b[34m[02/26/2021 11:55:30 INFO 140109982315904] compute all data-center distances: center norm took: 0.5505%, (0.001077 secs)\u001b[0m\n",
      "\u001b[34m[02/26/2021 11:55:30 INFO 140109982315904] update set-up time took: 0.1448%, (0.000283 secs)\u001b[0m\n",
      "\u001b[34m[02/26/2021 11:55:30 INFO 140109982315904] predict minus dist took: 0.0669%, (0.000131 secs)\u001b[0m\n",
      "\u001b[34m[02/26/2021 11:55:30 INFO 140109982315904] TOTAL took: 0.19559788703918457\u001b[0m\n",
      "\u001b[34m[02/26/2021 11:55:30 INFO 140109982315904] Number of GPUs being used: 0\u001b[0m\n",
      "\u001b[34m#metrics {\"StartTime\": 1614340529.8984783, \"EndTime\": 1614340530.4475164, \"Dimensions\": {\"Algorithm\": \"AWS/KMeansWebscale\", \"Host\": \"algo-1\", \"Operation\": \"training\"}, \"Metrics\": {\"initialize.time\": {\"sum\": 37.314414978027344, \"count\": 1, \"min\": 37.314414978027344, \"max\": 37.314414978027344}, \"epochs\": {\"sum\": 1.0, \"count\": 1, \"min\": 1, \"max\": 1}, \"update.time\": {\"sum\": 188.68732452392578, \"count\": 1, \"min\": 188.68732452392578, \"max\": 188.68732452392578}, \"_shrink.time\": {\"sum\": 280.8966636657715, \"count\": 1, \"min\": 280.8966636657715, \"max\": 280.8966636657715}, \"finalize.time\": {\"sum\": 282.8054428100586, \"count\": 1, \"min\": 282.8054428100586, \"max\": 282.8054428100586}, \"model.serialize.time\": {\"sum\": 0.20194053649902344, \"count\": 1, \"min\": 0.20194053649902344, \"max\": 0.20194053649902344}}}\n",
      "\u001b[0m\n",
      "\u001b[34m[02/26/2021 11:55:30 INFO 140109982315904] Test data is not provided.\u001b[0m\n",
      "\u001b[34m#metrics {\"StartTime\": 1614340530.4476, \"EndTime\": 1614340530.4477763, \"Dimensions\": {\"Algorithm\": \"AWS/KMeansWebscale\", \"Host\": \"algo-1\", \"Operation\": \"training\"}, \"Metrics\": {\"setuptime\": {\"sum\": 1078.4709453582764, \"count\": 1, \"min\": 1078.4709453582764, \"max\": 1078.4709453582764}, \"totaltime\": {\"sum\": 2826.2553215026855, \"count\": 1, \"min\": 2826.2553215026855, \"max\": 2826.2553215026855}}}\n",
      "\u001b[0m\n",
      "\u001b[35m[02/26/2021 11:55:28 INFO 140352212116864] Environment: {'ENVROOT': '/opt/amazon', 'PROTOCOL_BUFFERS_PYTHON_IMPLEMENTATION': 'cpp', 'HOSTNAME': 'ip-10-0-79-238.ap-northeast-2.compute.internal', 'TRAINING_JOB_NAME': 'kmeans-2021-02-26-11-52-23-527', 'NVIDIA_REQUIRE_CUDA': 'cuda>=9.0', 'TRAINING_JOB_ARN': 'arn:aws:sagemaker:ap-northeast-2:894573664020:training-job/kmeans-2021-02-26-11-52-23-527', 'AWS_CONTAINER_CREDENTIALS_RELATIVE_URI': '/v2/credentials/15b03ebd-2090-40f6-8839-85246c19ff91', 'CANONICAL_ENVROOT': '/opt/amazon', 'PYTHONUNBUFFERED': 'TRUE', 'NVIDIA_VISIBLE_DEVICES': 'void', 'LD_LIBRARY_PATH': '/opt/amazon/lib/python3.6/site-packages/cv2/../../../../lib:/usr/local/nvidia/lib64:/opt/amazon/lib', 'MXNET_KVSTORE_BIGARRAY_BOUND': '400000000', 'NVIDIA_DRIVER_CAPABILITIES': 'compute,utility', 'AWS_EXECUTION_ENV': 'AWS_ECS_EC2', 'PATH': '/opt/amazon/bin:/usr/local/nvidia/bin:/usr/local/sbin:/usr/local/bin:/usr/sbin:/usr/bin:/sbin:/bin:/opt/amazon/bin:/opt/amazon/bin', 'PWD': '/', 'LANG': 'en_US.utf8', 'SAGEMAKER_METRICS_DIRECTORY': '/opt/ml/output/metrics/sagemaker', 'AWS_REGION': 'ap-northeast-2', 'HOME': '/root', 'SHLVL': '1', 'PROTOCOL_BUFFERS_PYTHON_IMPLEMENTATION_VERSION': '2', 'OMP_NUM_THREADS': '18', 'ECS_CONTAINER_METADATA_URI': 'http://169.254.170.2/v3/b6627fda-f008-43cd-95bf-c03124a5c17a', 'DMLC_INTERFACE': 'eth0', 'ECS_CONTAINER_METADATA_URI_V4': 'http://169.254.170.2/v4/b6627fda-f008-43cd-95bf-c03124a5c17a', 'SAGEMAKER_HTTP_PORT': '8080', 'SAGEMAKER_DATA_PATH': '/opt/ml', 'DMLC_ROLE': 'worker', 'DMLC_PS_ROOT_URI': '10.0.91.191', 'DMLC_PS_ROOT_PORT': '9000', 'DMLC_NUM_SERVER': '1', 'DMLC_NUM_WORKER': '2'}\u001b[0m\n",
      "\u001b[35mProcess 1 is a worker.\u001b[0m\n",
      "\u001b[35m[02/26/2021 11:55:28 INFO 140352212116864] Using default worker.\u001b[0m\n",
      "\u001b[35m[02/26/2021 11:55:28 INFO 140352212116864] Loaded iterator creator application/x-recordio-protobuf for content type ('application/x-recordio-protobuf', '1.0')\u001b[0m\n",
      "\u001b[35m[02/26/2021 11:55:28 INFO 140352212116864] Create Store: dist_async\u001b[0m\n",
      "\u001b[35m[02/26/2021 11:55:29 INFO 140352212116864] nvidia-smi took: 0.025270462036132812 secs to identify 0 gpus\u001b[0m\n",
      "\u001b[35m[02/26/2021 11:55:29 INFO 140352212116864] Number of GPUs being used: 0\u001b[0m\n",
      "\u001b[35m[02/26/2021 11:55:29 INFO 140352212116864] Checkpoint loading and saving are disabled.\u001b[0m\n",
      "\u001b[35m[02/26/2021 11:55:29 INFO 140352212116864] Setting up with params: {'init_method': 'random', 'mini_batch_size': '5000', 'epochs': '1', 'extra_center_factor': 'auto', 'local_lloyd_max_iter': '300', 'local_lloyd_tol': '0.0001', 'local_lloyd_init_method': 'kmeans++', 'local_lloyd_num_trials': 'auto', 'half_life_time_size': '0', 'eval_metrics': '[\"msd\"]', 'force_dense': 'True', '_disable_wait_to_read': 'false', '_enable_profiler': 'false', '_kvstore': 'auto', '_log_level': 'info', '_num_gpus': 'auto', '_num_kv_servers': '1', '_num_slices': '1', '_tuning_objective_metric': '', 'feature_dim': '784', 'k': '10'}\u001b[0m\n",
      "\u001b[35m[02/26/2021 11:55:29 INFO 140352212116864] 'extra_center_factor' was set to 'auto', evaluated to 10.\u001b[0m\n",
      "\u001b[35m[02/26/2021 11:55:29 INFO 140352212116864] Number of GPUs being used: 0\u001b[0m\n",
      "\u001b[35m[02/26/2021 11:55:29 INFO 140352212116864] number of center slices 1\u001b[0m\n",
      "\u001b[35m#metrics {\"StartTime\": 1614340530.0275385, \"EndTime\": 1614340530.0275722, \"Dimensions\": {\"Algorithm\": \"AWS/KMeansWebscale\", \"Host\": \"algo-2\", \"Operation\": \"training\", \"Meta\": \"init_train_data_iter\"}, \"Metrics\": {\"Total Records Seen\": {\"sum\": 5000.0, \"count\": 1, \"min\": 5000, \"max\": 5000}, \"Total Batches Seen\": {\"sum\": 1.0, \"count\": 1, \"min\": 1, \"max\": 1}, \"Max Records Seen Between Resets\": {\"sum\": 5000.0, \"count\": 1, \"min\": 5000, \"max\": 5000}, \"Max Batches Seen Between Resets\": {\"sum\": 1.0, \"count\": 1, \"min\": 1, \"max\": 1}, \"Reset Count\": {\"sum\": 0.0, \"count\": 1, \"min\": 0, \"max\": 0}, \"Number of Records Since Last Reset\": {\"sum\": 5000.0, \"count\": 1, \"min\": 5000, \"max\": 5000}, \"Number of Batches Since Last Reset\": {\"sum\": 1.0, \"count\": 1, \"min\": 1, \"max\": 1}}}\n",
      "\u001b[0m\n",
      "\u001b[35m[2021-02-26 11:55:30.035] [tensorio] [info] epoch_stats={\"data_pipeline\": \"/opt/ml/input/data/train\", \"epoch\": 0, \"duration\": 66, \"num_examples\": 1, \"num_bytes\": 15820000}\u001b[0m\n",
      "\u001b[35m[2021-02-26 11:55:30.225] [tensorio] [info] epoch_stats={\"data_pipeline\": \"/opt/ml/input/data/train\", \"epoch\": 1, \"duration\": 189, \"num_examples\": 5, \"num_bytes\": 79100000}\u001b[0m\n",
      "\u001b[35m[02/26/2021 11:55:30 INFO 140352212116864] processed a total of 25000 examples\u001b[0m\n",
      "\u001b[35m[02/26/2021 11:55:30 INFO 140352212116864] #progress_metric: host=algo-2, completed 100.0 % of epochs\u001b[0m\n",
      "\u001b[35m#metrics {\"StartTime\": 1614340530.0357587, \"EndTime\": 1614340530.226293, \"Dimensions\": {\"Algorithm\": \"AWS/KMeansWebscale\", \"Host\": \"algo-2\", \"Operation\": \"training\", \"epoch\": 0, \"Meta\": \"training_data_iter\"}, \"Metrics\": {\"Total Records Seen\": {\"sum\": 30000.0, \"count\": 1, \"min\": 30000, \"max\": 30000}, \"Total Batches Seen\": {\"sum\": 6.0, \"count\": 1, \"min\": 6, \"max\": 6}, \"Max Records Seen Between Resets\": {\"sum\": 25000.0, \"count\": 1, \"min\": 25000, \"max\": 25000}, \"Max Batches Seen Between Resets\": {\"sum\": 5.0, \"count\": 1, \"min\": 5, \"max\": 5}, \"Reset Count\": {\"sum\": 1.0, \"count\": 1, \"min\": 1, \"max\": 1}, \"Number of Records Since Last Reset\": {\"sum\": 25000.0, \"count\": 1, \"min\": 25000, \"max\": 25000}, \"Number of Batches Since Last Reset\": {\"sum\": 5.0, \"count\": 1, \"min\": 5, \"max\": 5}}}\n",
      "\u001b[0m\n",
      "\u001b[35m[02/26/2021 11:55:30 INFO 140352212116864] #throughput_metric: host=algo-2, train throughput=131135.1087710961 records/second\u001b[0m\n",
      "\u001b[35m[02/26/2021 11:55:30 INFO 140352212116864] shrinking 100 centers into 10\u001b[0m\n",
      "\u001b[35m[02/26/2021 11:55:30 INFO 140352212116864] local kmeans attempt #0. Current mean square distance 10.555814\u001b[0m\n",
      "\u001b[35m[02/26/2021 11:55:30 INFO 140352212116864] local kmeans attempt #1. Current mean square distance 11.208789\u001b[0m\n",
      "\u001b[35m[02/26/2021 11:55:30 INFO 140352212116864] local kmeans attempt #2. Current mean square distance 10.611717\u001b[0m\n",
      "\u001b[35m[02/26/2021 11:55:30 INFO 140352212116864] local kmeans attempt #3. Current mean square distance 11.817822\u001b[0m\n",
      "\u001b[35m[02/26/2021 11:55:30 INFO 140352212116864] local kmeans attempt #4. Current mean square distance 11.216866\u001b[0m\n",
      "\u001b[35m[02/26/2021 11:55:30 INFO 140352212116864] local kmeans attempt #5. Current mean square distance 10.386243\u001b[0m\n",
      "\u001b[35m[02/26/2021 11:55:30 INFO 140352212116864] local kmeans attempt #6. Current mean square distance 10.693743\u001b[0m\n",
      "\u001b[35m[02/26/2021 11:55:30 INFO 140352212116864] local kmeans attempt #7. Current mean square distance 10.512616\u001b[0m\n",
      "\u001b[35m[02/26/2021 11:55:30 INFO 140352212116864] local kmeans attempt #8. Current mean square distance 10.955721\u001b[0m\n",
      "\u001b[35m[02/26/2021 11:55:30 INFO 140352212116864] local kmeans attempt #9. Current mean square distance 11.173385\u001b[0m\n",
      "\u001b[35m[02/26/2021 11:55:30 INFO 140352212116864] finished shrinking process. Mean Square Distance = 10\u001b[0m\n",
      "\u001b[35m[02/26/2021 11:55:30 INFO 140352212116864] #quality_metric: host=algo-2, train msd <loss>=10.386242866516113\u001b[0m\n",
      "\u001b[35m[02/26/2021 11:55:30 INFO 140352212116864] compute all data-center distances: inner product took: 33.4804%, (0.065926 secs)\u001b[0m\n",
      "\u001b[35m[02/26/2021 11:55:30 INFO 140352212116864] batch data loading with context took: 23.9638%, (0.047187 secs)\u001b[0m\n",
      "\u001b[35m[02/26/2021 11:55:30 INFO 140352212116864] collect from kv store took: 12.2664%, (0.024154 secs)\u001b[0m\n",
      "\u001b[35m[02/26/2021 11:55:30 INFO 140352212116864] compute all data-center distances: point norm took: 11.1791%, (0.022013 secs)\u001b[0m\n",
      "\u001b[35m[02/26/2021 11:55:30 INFO 140352212116864] gradient: cluster center took: 6.2641%, (0.012335 secs)\u001b[0m\n",
      "\u001b[35m[02/26/2021 11:55:30 INFO 140352212116864] splitting centers key-value pair took: 4.2274%, (0.008324 secs)\u001b[0m\n",
      "\u001b[35m[02/26/2021 11:55:30 INFO 140352212116864] predict compute msd took: 3.0260%, (0.005959 secs)\u001b[0m\n",
      "\u001b[35m[02/26/2021 11:55:30 INFO 140352212116864] gradient: one_hot took: 2.6680%, (0.005254 secs)\u001b[0m\n",
      "\u001b[35m[02/26/2021 11:55:30 INFO 140352212116864] gradient: cluster size  took: 1.5351%, (0.003023 secs)\u001b[0m\n",
      "\u001b[35m[02/26/2021 11:55:30 INFO 140352212116864] update state and report convergance took: 0.5786%, (0.001139 secs)\u001b[0m\n",
      "\u001b[35m[02/26/2021 11:55:30 INFO 140352212116864] compute all data-center distances: center norm took: 0.5397%, (0.001063 secs)\u001b[0m\n",
      "\u001b[35m[02/26/2021 11:55:30 INFO 140352212116864] update set-up time took: 0.2116%, (0.000417 secs)\u001b[0m\n",
      "\u001b[35m[02/26/2021 11:55:30 INFO 140352212116864] predict minus dist took: 0.0597%, (0.000118 secs)\u001b[0m\n",
      "\u001b[35m[02/26/2021 11:55:30 INFO 140352212116864] TOTAL took: 0.19690895080566406\u001b[0m\n",
      "\u001b[35m[02/26/2021 11:55:30 INFO 140352212116864] Number of GPUs being used: 0\u001b[0m\n",
      "\u001b[35m[02/26/2021 11:55:30 INFO 140352212116864] No model is serialized on a non-master node\u001b[0m\n",
      "\u001b[35m#metrics {\"StartTime\": 1614340529.968531, \"EndTime\": 1614340530.5348155, \"Dimensions\": {\"Algorithm\": \"AWS/KMeansWebscale\", \"Host\": \"algo-2\", \"Operation\": \"training\"}, \"Metrics\": {\"initialize.time\": {\"sum\": 33.62894058227539, \"count\": 1, \"min\": 33.62894058227539, \"max\": 33.62894058227539}, \"epochs\": {\"sum\": 1.0, \"count\": 1, \"min\": 1, \"max\": 1}, \"update.time\": {\"sum\": 190.35983085632324, \"count\": 1, \"min\": 190.35983085632324, \"max\": 190.35983085632324}, \"_shrink.time\": {\"sum\": 298.35963249206543, \"count\": 1, \"min\": 298.35963249206543, \"max\": 298.35963249206543}, \"finalize.time\": {\"sum\": 301.1212348937988, \"count\": 1, \"min\": 301.1212348937988, \"max\": 301.1212348937988}, \"model.serialize.time\": {\"sum\": 0.08416175842285156, \"count\": 1, \"min\": 0.08416175842285156, \"max\": 0.08416175842285156}}}\n",
      "\u001b[0m\n",
      "\u001b[35m[02/26/2021 11:55:30 INFO 140352212116864] Test data is not provided.\u001b[0m\n",
      "\u001b[35m#metrics {\"StartTime\": 1614340530.5348988, \"EndTime\": 1614340530.5350664, \"Dimensions\": {\"Algorithm\": \"AWS/KMeansWebscale\", \"Host\": \"algo-2\", \"Operation\": \"training\"}, \"Metrics\": {\"setuptime\": {\"sum\": 2535.4321002960205, \"count\": 1, \"min\": 2535.4321002960205, \"max\": 2535.4321002960205}, \"totaltime\": {\"sum\": 4280.979633331299, \"count\": 1, \"min\": 4280.979633331299, \"max\": 4280.979633331299}}}\n",
      "\u001b[0m\n",
      "\n",
      "2021-02-26 11:55:49 Uploading - Uploading generated training model\n",
      "2021-02-26 11:55:49 Completed - Training job completed\n",
      "Training seconds: 104\n",
      "Billable seconds: 104\n",
      "CPU times: user 8.89 s, sys: 465 ms, total: 9.35 s\n",
      "Wall time: 3min 52s\n"
     ]
    }
   ],
   "source": [
    "%%time\n",
    "\n",
    "#학습 시작!\n",
    "kmeans.fit(kmeans.record_set(train_set[0]))"
   ]
  },
  {
   "cell_type": "code",
   "execution_count": 13,
   "id": "allied-birthday",
   "metadata": {},
   "outputs": [
    {
     "name": "stderr",
     "output_type": "stream",
     "text": [
      "Defaulting to the only supported framework/algorithm version: 1. Ignoring framework/algorithm version: 1.\n"
     ]
    },
    {
     "name": "stdout",
     "output_type": "stream",
     "text": [
      "---------------!CPU times: user 287 ms, sys: 12.5 ms, total: 299 ms\n",
      "Wall time: 7min 32s\n"
     ]
    }
   ],
   "source": [
    "%%time\n",
    "\n",
    "#만든 모델 배포\n",
    "kmeans_predictor = kmeans.deploy(initial_instance_count=1,\n",
    "                                instance_type='ml.m4.xlarge')"
   ]
  },
  {
   "cell_type": "code",
   "execution_count": 16,
   "id": "enabling-blair",
   "metadata": {},
   "outputs": [
    {
     "name": "stdout",
     "output_type": "stream",
     "text": [
      "[label {\n",
      "  key: \"closest_cluster\"\n",
      "  value {\n",
      "    float32_tensor {\n",
      "      values: 8.0\n",
      "    }\n",
      "  }\n",
      "}\n",
      "label {\n",
      "  key: \"distance_to_cluster\"\n",
      "  value {\n",
      "    float32_tensor {\n",
      "      values: 5.604405879974365\n",
      "    }\n",
      "  }\n",
      "}\n",
      "]\n"
     ]
    }
   ],
   "source": [
    "#valid_set에 30번째 sample 테스트\n",
    "\n",
    "#predict 함수 : 새로운 이미지가 어떤 cluster에 속했는지 예측 결과를 알려줌\n",
    "result=kmeans_predictor.predict(valid_set[0][30:31])\n",
    "print(result)"
   ]
  },
  {
   "cell_type": "code",
   "execution_count": 20,
   "id": "anonymous-client",
   "metadata": {},
   "outputs": [
    {
     "name": "stdout",
     "output_type": "stream",
     "text": [
      "CPU times: user 23.3 ms, sys: 4.42 ms, total: 27.7 ms\n",
      "Wall time: 74.2 ms\n"
     ]
    }
   ],
   "source": [
    "%%time\n",
    "\n",
    "#valid_set에 있는 0부터 99번까지의 cluster 예측하기\n",
    "result=kmeans_predictor.predict(valid_set[0][0:100])\n",
    "\n",
    "#예측 결과에 대한 cluster 정보 수집\n",
    "clusters=[r.label['closest_cluster'].float32_tensor.values[0] for r in result]"
   ]
  },
  {
   "cell_type": "code",
   "execution_count": 21,
   "id": "eight-mandate",
   "metadata": {},
   "outputs": [
    {
     "name": "stdout",
     "output_type": "stream",
     "text": [
      "\n",
      "\n",
      "\n",
      "Cluster 0:\n"
     ]
    },
    {
     "data": {
      "image/png": "[encoded data removed]",
      "text/plain": [
       "<Figure size 360x72 with 5 Axes>"
      ]
     },
     "metadata": {
      "needs_background": "light"
     },
     "output_type": "display_data"
    },
    {
     "name": "stdout",
     "output_type": "stream",
     "text": [
      "\n",
      "\n",
      "\n",
      "Cluster 1:\n"
     ]
    },
    {
     "data": {
      "image/png": "[encoded data removed]",
      "text/plain": [
       "<Figure size 360x288 with 20 Axes>"
      ]
     },
     "metadata": {
      "needs_background": "light"
     },
     "output_type": "display_data"
    },
    {
     "name": "stdout",
     "output_type": "stream",
     "text": [
      "\n",
      "\n",
      "\n",
      "Cluster 2:\n"
     ]
    },
    {
     "data": {
      "image/png": "[encoded data removed]",
      "text/plain": [
       "<Figure size 360x144 with 10 Axes>"
      ]
     },
     "metadata": {
      "needs_background": "light"
     },
     "output_type": "display_data"
    },
    {
     "name": "stdout",
     "output_type": "stream",
     "text": [
      "\n",
      "\n",
      "\n",
      "Cluster 3:\n"
     ]
    },
    {
     "data": {
      "image/png": "[encoded data removed]",
      "text/plain": [
       "<Figure size 360x144 with 10 Axes>"
      ]
     },
     "metadata": {
      "needs_background": "light"
     },
     "output_type": "display_data"
    },
    {
     "name": "stdout",
     "output_type": "stream",
     "text": [
      "\n",
      "\n",
      "\n",
      "Cluster 4:\n"
     ]
    },
    {
     "data": {
      "image/png": "[encoded data removed]",
      "text/plain": [
       "<Figure size 360x216 with 15 Axes>"
      ]
     },
     "metadata": {
      "needs_background": "light"
     },
     "output_type": "display_data"
    },
    {
     "name": "stdout",
     "output_type": "stream",
     "text": [
      "\n",
      "\n",
      "\n",
      "Cluster 5:\n"
     ]
    },
    {
     "data": {
      "image/png": "[encoded data removed]",
      "text/plain": [
       "<Figure size 360x216 with 15 Axes>"
      ]
     },
     "metadata": {
      "needs_background": "light"
     },
     "output_type": "display_data"
    },
    {
     "name": "stdout",
     "output_type": "stream",
     "text": [
      "\n",
      "\n",
      "\n",
      "Cluster 6:\n"
     ]
    },
    {
     "data": {
      "image/png": "[encoded data removed]",
      "text/plain": [
       "<Figure size 360x72 with 5 Axes>"
      ]
     },
     "metadata": {
      "needs_background": "light"
     },
     "output_type": "display_data"
    },
    {
     "name": "stdout",
     "output_type": "stream",
     "text": [
      "\n",
      "\n",
      "\n",
      "Cluster 7:\n"
     ]
    },
    {
     "data": {
      "image/png": "[encoded data removed]",
      "text/plain": [
       "<Figure size 360x216 with 15 Axes>"
      ]
     },
     "metadata": {
      "needs_background": "light"
     },
     "output_type": "display_data"
    },
    {
     "name": "stdout",
     "output_type": "stream",
     "text": [
      "\n",
      "\n",
      "\n",
      "Cluster 8:\n"
     ]
    },
    {
     "data": {
      "image/png": "[encoded data removed]",
      "text/plain": [
       "<Figure size 360x216 with 15 Axes>"
      ]
     },
     "metadata": {
      "needs_background": "light"
     },
     "output_type": "display_data"
    },
    {
     "name": "stdout",
     "output_type": "stream",
     "text": [
      "\n",
      "\n",
      "\n",
      "Cluster 9:\n"
     ]
    },
    {
     "data": {
      "image/png": "[encoded data removed]",
      "text/plain": [
       "<Figure size 360x144 with 10 Axes>"
      ]
     },
     "metadata": {
      "needs_background": "light"
     },
     "output_type": "display_data"
    }
   ],
   "source": [
    "for cluster in range(10):\n",
    "    print('\\n\\n\\nCluster {}:'.format(int(cluster)))\n",
    "    digits = [ img for l, img in zip(clusters, valid_set[0]) if int(l) == cluster ]\n",
    "    height = ((len(digits)-1)//5)+1\n",
    "    width = 5\n",
    "    plt.rcParams[\"figure.figsize\"] = (width,height)\n",
    "    _, subplots = plt.subplots(height, width)\n",
    "    subplots = numpy.ndarray.flatten(subplots)\n",
    "    for subplot, image in zip(subplots, digits):\n",
    "        show_digit(image, subplot=subplot)\n",
    "    for subplot in subplots[len(digits):]:\n",
    "        subplot.axis('off')\n",
    "\n",
    "    plt.show()"
   ]
  },
  {
   "cell_type": "code",
   "execution_count": null,
   "id": "floppy-aurora",
   "metadata": {},
   "outputs": [],
   "source": []
  }
 ],
 "metadata": {
  "kernelspec": {
   "display_name": "conda_python3",
   "language": "python",
   "name": "conda_python3"
  },
  "language_info": {
   "codemirror_mode": {
    "name": "ipython",
    "version": 3
   },
   "file_extension": ".py",
   "mimetype": "text/x-python",
   "name": "python",
   "nbconvert_exporter": "python",
   "pygments_lexer": "ipython3",
   "version": "3.6.10"
  }
 },
 "nbformat": 4,
 "nbformat_minor": 5
}
